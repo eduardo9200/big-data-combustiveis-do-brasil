{
 "cells": [
  {
   "cell_type": "markdown",
   "metadata": {},
   "source": [
    "## Importação das bibliotecas"
   ]
  },
  {
   "cell_type": "code",
   "execution_count": 1,
   "metadata": {},
   "outputs": [],
   "source": [
    "from pyspark.sql import SparkSession\n",
    "from pyspark.sql import functions as F"
   ]
  },
  {
   "cell_type": "markdown",
   "metadata": {},
   "source": [
    "## Criação do Dataframe com Spark"
   ]
  },
  {
   "cell_type": "code",
   "execution_count": null,
   "metadata": {},
   "outputs": [
    {
     "name": "stderr",
     "output_type": "stream",
     "text": [
      "your 131072x1 screen size is bogus. expect trouble\n",
      "25/03/20 20:21:44 WARN Utils: Your hostname, denis resolves to a loopback address: 127.0.1.1; using 10.255.255.254 instead (on interface lo)\n",
      "25/03/20 20:21:44 WARN Utils: Set SPARK_LOCAL_IP if you need to bind to another address\n",
      "Setting default log level to \"WARN\".\n",
      "To adjust logging level use sc.setLogLevel(newLevel). For SparkR, use setLogLevel(newLevel).\n",
      "25/03/20 20:21:44 WARN NativeCodeLoader: Unable to load native-hadoop library for your platform... using builtin-java classes where applicable\n",
      "25/03/20 20:21:45 WARN Utils: Service 'SparkUI' could not bind on port 4040. Attempting port 4041.\n",
      "25/03/20 20:21:45 WARN Utils: Service 'SparkUI' could not bind on port 4041. Attempting port 4042.\n"
     ]
    },
    {
     "name": "stdout",
     "output_type": "stream",
     "text": [
      "root\n",
      " |-- Regiao - Sigla: string (nullable = true)\n",
      " |-- Estado - Sigla: string (nullable = true)\n",
      " |-- Municipio: string (nullable = true)\n",
      " |-- Revenda: string (nullable = true)\n",
      " |-- CNPJ da Revenda: string (nullable = true)\n",
      " |-- Nome da Rua: string (nullable = true)\n",
      " |-- Numero Rua: string (nullable = true)\n",
      " |-- Complemento: string (nullable = true)\n",
      " |-- Bairro: string (nullable = true)\n",
      " |-- Cep: string (nullable = true)\n",
      " |-- Produto: string (nullable = true)\n",
      " |-- Data da Coleta: string (nullable = true)\n",
      " |-- Valor de Venda: string (nullable = true)\n",
      " |-- Valor de Compra: string (nullable = true)\n",
      " |-- Unidade de Medida: string (nullable = true)\n",
      " |-- Bandeira: string (nullable = true)\n",
      "\n"
     ]
    },
    {
     "name": "stderr",
     "output_type": "stream",
     "text": [
      "                                                                                \r"
     ]
    }
   ],
   "source": [
    "spark = ( \n",
    " SparkSession\n",
    " .builder\n",
    " .master(\"local[*]\")\n",
    " .appName('spark_dataframe_api')\n",
    " .getOrCreate()\n",
    ")\n",
    "\n",
    "df = (\n",
    "    spark\n",
    "    .read\n",
    "    .option('delimiter', ';')\n",
    "    .option('header', 'true')\n",
    "    .option('inferSchema', 'true')\n",
    "    .option('enconding', 'ISO-8859-1')\n",
    "    .csv('./data/precos-gasolina-etanol-01.csv')\n",
    ")\n",
    "\n",
    "df.printSchema()"
   ]
  },
  {
   "cell_type": "code",
   "execution_count": 4,
   "metadata": {},
   "outputs": [
    {
     "name": "stdout",
     "output_type": "stream",
     "text": [
      "+--------------+--------------+----------+-------------------------+-------------------+----------------+----------+-----------+---------+---------+------------------+--------------+--------------+---------------+-----------------+-------------+\n",
      "|Regiao - Sigla|Estado - Sigla|Municipio |Revenda                  |CNPJ da Revenda    |Nome da Rua     |Numero Rua|Complemento|Bairro   |Cep      |Produto           |Data da Coleta|Valor de Venda|Valor de Compra|Unidade de Medida|Bandeira     |\n",
      "+--------------+--------------+----------+-------------------------+-------------------+----------------+----------+-----------+---------+---------+------------------+--------------+--------------+---------------+-----------------+-------------+\n",
      "|N             |AC            |RIO BRANCO|AUTO POSTO AMAPA - EIRELI| 00.529.581/0001-53|VIA CHICO MENDES|3570      |NULL       |AREAL    |69906-119|GASOLINA          |03/01/2022    |6,99          |NULL           |R$ / litro       |VIBRA ENERGIA|\n",
      "|N             |AC            |RIO BRANCO|AUTO POSTO AMAPA - EIRELI| 00.529.581/0001-53|VIA CHICO MENDES|3570      |NULL       |AREAL    |69906-119|ETANOL            |03/01/2022    |5,99          |NULL           |R$ / litro       |VIBRA ENERGIA|\n",
      "|N             |AC            |RIO BRANCO|AUTO POSTO AMAPA - EIRELI| 00.529.581/0001-53|VIA CHICO MENDES|3570      |NULL       |AREAL    |69906-119|GASOLINA ADITIVADA|03/01/2022    |7,05          |NULL           |R$ / litro       |VIBRA ENERGIA|\n",
      "|N             |AC            |RIO BRANCO|AUTO POSTO ACAUAN LTDA   | 00.524.999/0001-78|RODOVIA AC 40   |1800      |NULL       |VILA ACRE|69902-450|GASOLINA          |03/01/2022    |6,99          |NULL           |R$ / litro       |VIBRA ENERGIA|\n",
      "|N             |AC            |RIO BRANCO|AUTO POSTO ACAUAN LTDA   | 00.524.999/0001-78|RODOVIA AC 40   |1800      |NULL       |VILA ACRE|69902-450|ETANOL            |03/01/2022    |6,12          |NULL           |R$ / litro       |VIBRA ENERGIA|\n",
      "+--------------+--------------+----------+-------------------------+-------------------+----------------+----------+-----------+---------+---------+------------------+--------------+--------------+---------------+-----------------+-------------+\n",
      "only showing top 5 rows\n",
      "\n"
     ]
    }
   ],
   "source": [
    "df.show(5, truncate=False)"
   ]
  },
  {
   "cell_type": "markdown",
   "metadata": {},
   "source": [
    "## Filtrar Colunas"
   ]
  },
  {
   "cell_type": "code",
   "execution_count": 5,
   "metadata": {},
   "outputs": [
    {
     "name": "stdout",
     "output_type": "stream",
     "text": [
      "+--------------+------------------+---------------+--------------+-----------------+\n",
      "|Estado - Sigla|           Produto|Valor de Compra|Valor de Venda|Unidade de Medida|\n",
      "+--------------+------------------+---------------+--------------+-----------------+\n",
      "|            AC|          GASOLINA|           NULL|          6,99|       R$ / litro|\n",
      "|            AC|            ETANOL|           NULL|          5,99|       R$ / litro|\n",
      "|            AC|GASOLINA ADITIVADA|           NULL|          7,05|       R$ / litro|\n",
      "|            AC|          GASOLINA|           NULL|          6,99|       R$ / litro|\n",
      "|            AC|            ETANOL|           NULL|          6,12|       R$ / litro|\n",
      "+--------------+------------------+---------------+--------------+-----------------+\n",
      "only showing top 5 rows\n",
      "\n"
     ]
    }
   ],
   "source": [
    "df_filtered = (\n",
    "    df.select('Estado - Sigla', 'Produto', 'Valor de Compra', 'Valor de Venda', 'Unidade de Medida')\n",
    ")\n",
    "\n",
    "df_filtered.show(5)"
   ]
  },
  {
   "cell_type": "markdown",
   "metadata": {},
   "source": [
    "## Removendo Coluna \"Valor de Compra\""
   ]
  },
  {
   "cell_type": "code",
   "execution_count": 6,
   "metadata": {},
   "outputs": [
    {
     "name": "stdout",
     "output_type": "stream",
     "text": [
      "+--------------+-------+---------------+--------------+-----------------+\n",
      "|Estado - Sigla|Produto|Valor de Compra|Valor de Venda|Unidade de Medida|\n",
      "+--------------+-------+---------------+--------------+-----------------+\n",
      "+--------------+-------+---------------+--------------+-----------------+\n",
      "\n"
     ]
    }
   ],
   "source": [
    "(\n",
    "    df_filtered\n",
    "    .where(\n",
    "        F.col('Valor de Compra').isNotNull()\n",
    "    )\n",
    "    .show()\n",
    ")"
   ]
  },
  {
   "cell_type": "code",
   "execution_count": 7,
   "metadata": {},
   "outputs": [
    {
     "name": "stdout",
     "output_type": "stream",
     "text": [
      "+--------------+------------------+--------------+-----------------+\n",
      "|Estado - Sigla|           Produto|Valor de Venda|Unidade de Medida|\n",
      "+--------------+------------------+--------------+-----------------+\n",
      "|            AC|          GASOLINA|          6,99|       R$ / litro|\n",
      "|            AC|            ETANOL|          5,99|       R$ / litro|\n",
      "|            AC|GASOLINA ADITIVADA|          7,05|       R$ / litro|\n",
      "|            AC|          GASOLINA|          6,99|       R$ / litro|\n",
      "|            AC|            ETANOL|          6,12|       R$ / litro|\n",
      "+--------------+------------------+--------------+-----------------+\n",
      "only showing top 5 rows\n",
      "\n"
     ]
    }
   ],
   "source": [
    "df_filtered = df_filtered.drop('Valor de Compra')\n",
    "df_filtered.show(5)"
   ]
  },
  {
   "cell_type": "markdown",
   "metadata": {},
   "source": [
    "## Convertendo coluna"
   ]
  },
  {
   "cell_type": "code",
   "execution_count": 9,
   "metadata": {},
   "outputs": [
    {
     "name": "stdout",
     "output_type": "stream",
     "text": [
      "+--------------+------------------+--------------+-----------------+\n",
      "|Estado - Sigla|           Produto|Valor de Venda|Unidade de Medida|\n",
      "+--------------+------------------+--------------+-----------------+\n",
      "|            AC|          GASOLINA|          6.99|       R$ / litro|\n",
      "|            AC|            ETANOL|          5.99|       R$ / litro|\n",
      "|            AC|GASOLINA ADITIVADA|          7.05|       R$ / litro|\n",
      "|            AC|          GASOLINA|          6.99|       R$ / litro|\n",
      "|            AC|            ETANOL|          6.12|       R$ / litro|\n",
      "+--------------+------------------+--------------+-----------------+\n",
      "only showing top 5 rows\n",
      "\n",
      "root\n",
      " |-- Estado - Sigla: string (nullable = true)\n",
      " |-- Produto: string (nullable = true)\n",
      " |-- Valor de Venda: float (nullable = true)\n",
      " |-- Unidade de Medida: string (nullable = true)\n",
      "\n"
     ]
    }
   ],
   "source": [
    "df_filtered = (\n",
    "    df_filtered\n",
    "    .withColumn(\n",
    "        'Valor de Venda',\n",
    "        F.regexp_replace(F.col('Valor de Venda'), ',', '.').cast('float')\n",
    "    )\n",
    ")\n",
    "\n",
    "df_filtered.show(5)\n",
    "df_filtered.printSchema()"
   ]
  },
  {
   "cell_type": "markdown",
   "metadata": {},
   "source": [
    "## Analise sobre o \"Valor de Venda\""
   ]
  },
  {
   "cell_type": "code",
   "execution_count": 10,
   "metadata": {},
   "outputs": [
    {
     "name": "stdout",
     "output_type": "stream",
     "text": [
      "+--------------+------------------+-----------------+-----------+-----------+---------+\n",
      "|Estado - Sigla|           Produto|Unidade de Medida|menor_valor|maior_valor|diferenca|\n",
      "+--------------+------------------+-----------------+-----------+-----------+---------+\n",
      "|            SP|GASOLINA ADITIVADA|       R$ / litro|      5.789|      8.699|2.9100003|\n",
      "|            RS|            ETANOL|       R$ / litro|      5.199|      7.797|    2.598|\n",
      "|            RJ|GASOLINA ADITIVADA|       R$ / litro|      5.799|      8.209|2.4099998|\n",
      "|            MG|            ETANOL|       R$ / litro|       4.59|      6.999|    2.409|\n",
      "|            PR|            ETANOL|       R$ / litro|      4.669|       6.99|2.3209996|\n",
      "|            SP|            ETANOL|       R$ / litro|      4.099|      6.299|2.1999998|\n",
      "|            RJ|            ETANOL|       R$ / litro|       5.23|      7.359|2.1290002|\n",
      "|            SP|          GASOLINA|       R$ / litro|      5.489|      7.599|2.1100001|\n",
      "|            MT|            ETANOL|       R$ / litro|       4.37|      6.477|2.1070004|\n",
      "|            RS|GASOLINA ADITIVADA|       R$ / litro|      5.699|      7.754|2.0550003|\n",
      "+--------------+------------------+-----------------+-----------+-----------+---------+\n",
      "only showing top 10 rows\n",
      "\n"
     ]
    }
   ],
   "source": [
    "df_price = (\n",
    "    df_filtered\n",
    "    .groupBy(\n",
    "        F.col('Estado - Sigla'),\n",
    "        F.col('Produto'),\n",
    "        F.col('Unidade de Medida')\n",
    "    )\n",
    "    .agg(\n",
    "        F.min(F.col(\"Valor de Venda\")).alias('menor_valor'),\n",
    "        F.max(F.col(\"Valor de Venda\")).alias('maior_valor')\n",
    "    )\n",
    "    .withColumn(\n",
    "        \"diferenca\",\n",
    "        F.col('maior_valor') - F.col('menor_valor')\n",
    "    )\n",
    "    .orderBy('diferenca', ascending=False)\n",
    ")\n",
    "\n",
    "df_price.show(10)"
   ]
  }
 ],
 "metadata": {
  "kernelspec": {
   "display_name": ".venv",
   "language": "python",
   "name": "python3"
  },
  "language_info": {
   "codemirror_mode": {
    "name": "ipython",
    "version": 3
   },
   "file_extension": ".py",
   "mimetype": "text/x-python",
   "name": "python",
   "nbconvert_exporter": "python",
   "pygments_lexer": "ipython3",
   "version": "3.10.12"
  }
 },
 "nbformat": 4,
 "nbformat_minor": 2
}
