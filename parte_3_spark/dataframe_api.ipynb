{
 "cells": [
  {
   "cell_type": "markdown",
   "metadata": {},
   "source": [
    "## Importação das bibliotecas"
   ]
  },
  {
   "cell_type": "code",
   "execution_count": 61,
   "metadata": {},
   "outputs": [],
   "source": [
    "from pyspark.sql import SparkSession\n",
    "from pyspark.sql import functions as F\n",
    "from pyspark.sql.types import DoubleType\n",
    "import os"
   ]
  },
  {
   "cell_type": "markdown",
   "metadata": {},
   "source": [
    "## Criação do Dataframe com Spark"
   ]
  },
  {
   "cell_type": "code",
   "execution_count": null,
   "metadata": {},
   "outputs": [
    {
     "name": "stdout",
     "output_type": "stream",
     "text": [
      "Arquivo encontrado: ca-2020-01.csv\n",
      "Arquivo encontrado: ca-2020-02.csv\n",
      "Arquivo encontrado: ca-2021-01.csv\n",
      "Arquivo encontrado: ca-2021-02.csv\n",
      "Arquivo encontrado: ca-2022-02.csv\n",
      "Arquivo encontrado: precos-semestrais-ca-2022-01.csv\n",
      "Arquivo encontrado: Preços semestrais - AUTOMOTIVOS_2023.01.csv\n",
      "Arquivo encontrado: Preços semestrais - AUTOMOTIVOS_2023.02.csv\n",
      "Arquivo encontrado: Preços semestrais - AUTOMOTIVOS_2024.01.csv\n",
      "Arquivo encontrado: Preços semestrais - AUTOMOTIVOS_2024.02.csv\n",
      "root\n",
      " |-- Regiao - Sigla: string (nullable = true)\n",
      " |-- Estado - Sigla: string (nullable = true)\n",
      " |-- Municipio: string (nullable = true)\n",
      " |-- Revenda: string (nullable = true)\n",
      " |-- CNPJ da Revenda: string (nullable = true)\n",
      " |-- Nome da Rua: string (nullable = true)\n",
      " |-- Numero Rua: string (nullable = true)\n",
      " |-- Complemento: string (nullable = true)\n",
      " |-- Bairro: string (nullable = true)\n",
      " |-- Cep: string (nullable = true)\n",
      " |-- Produto: string (nullable = true)\n",
      " |-- Data da Coleta: string (nullable = true)\n",
      " |-- Valor de Venda: string (nullable = true)\n",
      " |-- Valor de Compra: string (nullable = true)\n",
      " |-- Unidade de Medida: string (nullable = true)\n",
      " |-- Bandeira: string (nullable = true)\n",
      "\n"
     ]
    }
   ],
   "source": [
    "spark = ( \n",
    " SparkSession\n",
    " .builder\n",
    " .master(\"local[*]\")\n",
    " .appName('spark_dataframe_api')\n",
    " .getOrCreate()\n",
    ")\n",
    "\n",
    "data_path = \"caminho/dos/arquivos/csv\"\n",
    "\n",
    "file_paths = [os.path.join(data_path, file) for file in os.listdir(data_path) if file.endswith('.csv')]\n",
    "\n",
    "# Inicializa um DataFrame vazio\n",
    "final_df = None\n",
    "\n",
    "# Lê e combina os arquivos usando union\n",
    "for file in file_paths:\n",
    "    print(f\"Arquivo encontrado: {os.path.basename(file)}\")\n",
    "\n",
    "    temp_df = spark.read.option(\"delimiter\", \";\").option(\"header\", \"true\").option(\"inferSchema\", \"true\").csv(file)\n",
    "    \n",
    "    if final_df is None:\n",
    "        final_df = temp_df\n",
    "    else:\n",
    "        final_df = final_df.union(temp_df)\n",
    "\n",
    "# Verifica o schema final\n",
    "final_df.printSchema()\n",
    "\n",
    "df = final_df\n"
   ]
  },
  {
   "cell_type": "code",
   "execution_count": 6,
   "metadata": {},
   "outputs": [
    {
     "name": "stdout",
     "output_type": "stream",
     "text": [
      "+--------------+--------------+---------+----------------------------+-------------------+------------------------+----------+-------------------+----------+---------+----------+--------------+--------------+---------------+-----------------+----------------------------+\n",
      "|Regiao - Sigla|Estado - Sigla|Municipio|Revenda                     |CNPJ da Revenda    |Nome da Rua             |Numero Rua|Complemento        |Bairro    |Cep      |Produto   |Data da Coleta|Valor de Venda|Valor de Compra|Unidade de Medida|Bandeira                    |\n",
      "+--------------+--------------+---------+----------------------------+-------------------+------------------------+----------+-------------------+----------+---------+----------+--------------+--------------+---------------+-----------------+----------------------------+\n",
      "|SE            |SP            |GUARULHOS|AUTO POSTO SAKAMOTO LTDA    | 49.051.667/0001-02|RODOVIA PRESIDENTE DUTRA|S/N       |KM 210,5-SENT SP/RJ|BONSUCESSO|07178-580|GASOLINA  |03/01/2020    |4,399         |NULL           |R$ / litro       |PETROBRAS DISTRIBUIDORA S.A.|\n",
      "|SE            |SP            |GUARULHOS|AUTO POSTO SAKAMOTO LTDA    | 49.051.667/0001-02|RODOVIA PRESIDENTE DUTRA|S/N       |KM 210,5-SENT SP/RJ|BONSUCESSO|07178-580|ETANOL    |03/01/2020    |3,199         |NULL           |R$ / litro       |PETROBRAS DISTRIBUIDORA S.A.|\n",
      "|SE            |SP            |GUARULHOS|AUTO POSTO SAKAMOTO LTDA    | 49.051.667/0001-02|RODOVIA PRESIDENTE DUTRA|S/N       |KM 210,5-SENT SP/RJ|BONSUCESSO|07178-580|DIESEL S10|03/01/2020    |3,899         |NULL           |R$ / litro       |PETROBRAS DISTRIBUIDORA S.A.|\n",
      "|SE            |SP            |GUARULHOS|AUTO POSTO SAKAMOTO LTDA    | 49.051.667/0001-02|RODOVIA PRESIDENTE DUTRA|S/N       |KM 210,5-SENT SP/RJ|BONSUCESSO|07178-580|GNV       |03/01/2020    |2,995         |NULL           |R$ / m³          |PETROBRAS DISTRIBUIDORA S.A.|\n",
      "|NE            |BA            |SALVADOR |PETROBRAS DISTRIBUIDORA S.A.| 34.274.233/0015-08|RUA EDISTIO PONDE       |474       |NULL               |STIEP     |41770-395|GASOLINA  |03/01/2020    |4,69          |4,1743         |R$ / litro       |PETROBRAS DISTRIBUIDORA S.A.|\n",
      "+--------------+--------------+---------+----------------------------+-------------------+------------------------+----------+-------------------+----------+---------+----------+--------------+--------------+---------------+-----------------+----------------------------+\n",
      "only showing top 5 rows\n",
      "\n"
     ]
    }
   ],
   "source": [
    "df.show(5, truncate=False)"
   ]
  },
  {
   "cell_type": "markdown",
   "metadata": {},
   "source": [
    "## Filtrar Colunas"
   ]
  },
  {
   "cell_type": "code",
   "execution_count": 34,
   "metadata": {},
   "outputs": [
    {
     "name": "stdout",
     "output_type": "stream",
     "text": [
      "+--------------+---------+----------+--------------------+--------------------+----------+---------------+--------------+-----------------+\n",
      "|Estado - Sigla|Municipio|    Bairro|             Revenda|            Bandeira|   Produto|Valor de Compra|Valor de Venda|Unidade de Medida|\n",
      "+--------------+---------+----------+--------------------+--------------------+----------+---------------+--------------+-----------------+\n",
      "|            SP|GUARULHOS|BONSUCESSO|AUTO POSTO SAKAMO...|PETROBRAS DISTRIB...|  GASOLINA|           NULL|         4,399|       R$ / litro|\n",
      "|            SP|GUARULHOS|BONSUCESSO|AUTO POSTO SAKAMO...|PETROBRAS DISTRIB...|    ETANOL|           NULL|         3,199|       R$ / litro|\n",
      "|            SP|GUARULHOS|BONSUCESSO|AUTO POSTO SAKAMO...|PETROBRAS DISTRIB...|DIESEL S10|           NULL|         3,899|       R$ / litro|\n",
      "|            SP|GUARULHOS|BONSUCESSO|AUTO POSTO SAKAMO...|PETROBRAS DISTRIB...|       GNV|           NULL|         2,995|          R$ / m³|\n",
      "|            BA| SALVADOR|     STIEP|PETROBRAS DISTRIB...|PETROBRAS DISTRIB...|  GASOLINA|         4,1743|          4,69|       R$ / litro|\n",
      "+--------------+---------+----------+--------------------+--------------------+----------+---------------+--------------+-----------------+\n",
      "only showing top 5 rows\n",
      "\n"
     ]
    }
   ],
   "source": [
    "df_filtered = (\n",
    "    df.select('Estado - Sigla', 'Municipio', 'Bairro', 'Revenda', 'Bandeira', 'Produto', 'Valor de Compra', 'Valor de Venda', 'Unidade de Medida')\n",
    ")\n",
    "\n",
    "df_filtered.show(5)"
   ]
  },
  {
   "cell_type": "markdown",
   "metadata": {},
   "source": [
    "## Configuração inicial"
   ]
  },
  {
   "cell_type": "code",
   "execution_count": 62,
   "metadata": {},
   "outputs": [],
   "source": [
    "# Ajusta a coluna \"Valor de Venda\" em todo o DataFrame\n",
    "df = df.withColumn(\"Valor de Venda\", F.regexp_replace(\"Valor de Venda\", \",\", \".\").cast(DoubleType()))"
   ]
  },
  {
   "cell_type": "markdown",
   "metadata": {},
   "source": [
    "## Perguntas"
   ]
  },
  {
   "cell_type": "markdown",
   "metadata": {},
   "source": [
    "### Cálculo da Média, Mediana e Desvio Padrão dos preços de venda da Gasolina, Etanol, Diesel e Diesel S10."
   ]
  },
  {
   "cell_type": "code",
   "execution_count": 63,
   "metadata": {},
   "outputs": [
    {
     "name": "stdout",
     "output_type": "stream",
     "text": [
      "+------------------+-----------------+-------+------------------+\n",
      "|           Produto|            Média|Mediana|     Desvio Padrão|\n",
      "+------------------+-----------------+-------+------------------+\n",
      "|        DIESEL S10|5.381306979685092|   5.68|1.2708373344671733|\n",
      "|            DIESEL|5.292243032869912|   5.59|1.2642657559466581|\n",
      "|            ETANOL|4.156815503138976|  3.999|0.8830197250592021|\n",
      "|               GNV|4.390210353724093|   4.49|0.8303960347825217|\n",
      "|          GASOLINA|5.600917728050836|   5.65|0.9349063082810379|\n",
      "|GASOLINA ADITIVADA|6.049327963982642|   5.99|0.7489803901236937|\n",
      "+------------------+-----------------+-------+------------------+\n",
      "\n"
     ]
    }
   ],
   "source": [
    "result = (\n",
    "    df.groupBy(\"Produto\")\n",
    "      .agg(\n",
    "          F.avg(\"Valor de Venda\").alias(\"Média\"),                   # Média\n",
    "          F.percentile_approx(\"Valor de Venda\", 0.5).alias(\"Mediana\"),  # Mediana\n",
    "          F.stddev(\"Valor de Venda\").alias(\"Desvio Padrão\")         # Desvio padrão\n",
    "      )\n",
    ")\n",
    "\n",
    "result.show()"
   ]
  },
  {
   "cell_type": "markdown",
   "metadata": {},
   "source": [
    "### Quais são os 3 principais postos de São Paulo que têm a maior média de venda da Gasolina, Etanol e Diesel"
   ]
  },
  {
   "cell_type": "code",
   "execution_count": 64,
   "metadata": {},
   "outputs": [
    {
     "name": "stdout",
     "output_type": "stream",
     "text": [
      "+------------------+--------------------------------------------------------------------------------------------------------------------------+\n",
      "|Produto           |top_postos                                                                                                                |\n",
      "+------------------+--------------------------------------------------------------------------------------------------------------------------+\n",
      "|DIESEL S10        |[PEDRO BRANCO FERRARO LTDA, AUTO POSTO FERRARO LTDA, MARIO VICENTE SERVICOS AUTOMOTIVOS LTDA]                             |\n",
      "|DIESEL            |[POSTO GAIVOTA LTDA, AUTO POSTO NEMO LTDA, AUTO POSTO SANTA CATARINA DE OURINHOS - EIRELI]                                |\n",
      "|GASOLINA ADITIVADA|[AUTO POSTO LEAO DA ALDEIA LTDA, SENA PARK AUTO POSTO LTDA, SERVICOS AUTOMOTIVOS EMBUENSE LTDA]                           |\n",
      "|ETANOL            |[CLEAN CAR SUPER LAVAGEM AUTOM�TICA E COMERCIO LTDA, POSTO DE SERVI�OS DOMINANTE LTDA, AUTO POSTO BRASIL DE CA�APAVA LTDA]|\n",
      "|GNV               |[POSTO DE SERV MARACANA LTDA, CHOU GÁS AUTO POSTO LTDA., FORMULA INDY COMERCIO E SERVICOS AUTOMOTIVOS LTDA]               |\n",
      "|GASOLINA          |[SENA PARK AUTO POSTO LTDA, AUTO POSTO PORTAL DE SANTANA LTDA., CENTRO AUTOMOTIVO ENDURANCE LTDA]                         |\n",
      "+------------------+--------------------------------------------------------------------------------------------------------------------------+\n",
      "\n"
     ]
    }
   ],
   "source": [
    "df_sp = df.filter(F.col(\"Estado - Sigla\") == 'SP')\n",
    "\n",
    "result = (\n",
    "    df_sp.groupBy(\"Produto\", \"Revenda\") \n",
    "        .agg(F.avg(\"Valor de Venda\").alias(\"media_venda\"))\n",
    "        .orderBy(\"Produto\", F.desc(\"media_venda\"))\n",
    ")\n",
    "\n",
    "# Seleciona os 3 principais postos para cada produto\n",
    "top_3_postos = (\n",
    "    result.groupBy(\"Produto\")\n",
    "        .agg(F.collect_list(\"Revenda\").alias(\"top_postos\"))\n",
    "        .withColumn(\"top_postos\", F.expr(\"slice(top_postos, 1, 3)\"))  # Pega os 3 primeiros de cada produto\n",
    ")\n",
    "\n",
    "# Exibe os resultados\n",
    "top_3_postos.show(truncate=False)"
   ]
  },
  {
   "cell_type": "markdown",
   "metadata": {},
   "source": [
    "### Qual o estado que possui a maior média de venda para Diesel e Diesel S10"
   ]
  },
  {
   "cell_type": "code",
   "execution_count": 65,
   "metadata": {},
   "outputs": [
    {
     "name": "stdout",
     "output_type": "stream",
     "text": [
      "Diesel\n",
      "+--------------+-----------------+\n",
      "|Estado - Sigla|      media_venda|\n",
      "+--------------+-----------------+\n",
      "|            AC|6.133045477344927|\n",
      "+--------------+-----------------+\n",
      "only showing top 1 row\n",
      "\n",
      "Diesel S10\n",
      "+--------------+-----------------+\n",
      "|Estado - Sigla|      media_venda|\n",
      "+--------------+-----------------+\n",
      "|            AC|6.173175639617018|\n",
      "+--------------+-----------------+\n",
      "only showing top 1 row\n",
      "\n"
     ]
    }
   ],
   "source": [
    "df_filtered_diesel = df.filter(df[\"Produto\"] == 'DIESEL')\n",
    "df_filtered_diesel_s10 = df.filter(df[\"Produto\"] == 'DIESEL S10')\n",
    "\n",
    "result_diesel = (\n",
    "    df_filtered_diesel.groupBy(\"Estado - Sigla\")\n",
    "    .agg(F.avg(\"Valor de Venda\").alias(\"media_venda\"))\n",
    "    .orderBy(F.desc(\"media_venda\"))\n",
    ")\n",
    "\n",
    "result_diesel_s10 = (\n",
    "    df_filtered_diesel_s10.groupBy(\"Estado - Sigla\")\n",
    "    .agg(F.avg(\"Valor de Venda\").alias(\"media_venda\"))\n",
    "    .orderBy(F.desc(\"media_venda\"))\n",
    ")\n",
    "\n",
    "print(\"Diesel\")\n",
    "result_diesel.show(1)  # Exibe o estado no topo da lista\n",
    "\n",
    "print(\"Diesel S10\")\n",
    "result_diesel_s10.show(1)"
   ]
  },
  {
   "cell_type": "markdown",
   "metadata": {},
   "source": [
    "### Quais foram os valores de venda mais alto atrelados a cada bandeira do estado de São Paulo"
   ]
  },
  {
   "cell_type": "code",
   "execution_count": 67,
   "metadata": {},
   "outputs": [
    {
     "name": "stdout",
     "output_type": "stream",
     "text": [
      "+----------------------------+------------+\n",
      "|Bandeira                    |valor_maximo|\n",
      "+----------------------------+------------+\n",
      "|ALE                         |7.69        |\n",
      "|ALESAT                      |8.04        |\n",
      "|BRANCA                      |8.49        |\n",
      "|CIAPETRO                    |7.69        |\n",
      "|D`MAIS                      |6.49        |\n",
      "|GRAN PETRO                  |4.339       |\n",
      "|IPIRANGA                    |9.65        |\n",
      "|LIQUIGÁS                    |6.44        |\n",
      "|PETROBRAS DISTRIBUIDORA S.A.|6.899       |\n",
      "|PETROBRASIL                 |6.39        |\n",
      "|PODIUM                      |8.499       |\n",
      "|PR DISTRIBUIDORA            |4.499       |\n",
      "|RAIZEN                      |8.99        |\n",
      "|RIO BRANCO                  |7.69        |\n",
      "|RM PETROLEO                 |4.079       |\n",
      "|RODOIL                      |6.39        |\n",
      "|ROYAL FIC                   |4.259       |\n",
      "|RUFF C.J.                   |7.53        |\n",
      "|SMALL                       |6.99        |\n",
      "|TAURUS                      |7.48        |\n",
      "+----------------------------+------------+\n",
      "only showing top 20 rows\n",
      "\n"
     ]
    }
   ],
   "source": [
    "df_sp = df.filter(df[\"Estado - Sigla\"] == 'SP')\n",
    "\n",
    "result = (\n",
    "    df_sp.groupBy(\"Bandeira\")\n",
    "         .agg(F.max(\"Valor de Venda\").alias(\"valor_maximo\"))  # Calcula o valor máximo de venda\n",
    "         .orderBy(\"Bandeira\")\n",
    ")\n",
    "\n",
    "result.show(truncate=False)"
   ]
  },
  {
   "cell_type": "markdown",
   "metadata": {},
   "source": [
    "### Qual o município apresentou o maior e o menor preço médio do Diesel?"
   ]
  },
  {
   "cell_type": "code",
   "execution_count": null,
   "metadata": {},
   "outputs": [
    {
     "name": "stdout",
     "output_type": "stream",
     "text": [
      "Menor preço médio de venda do Diesel\n",
      "+--------------+-----------------+\n",
      "|Municipio     |media_venda      |\n",
      "+--------------+-----------------+\n",
      "|PESCARIA BRAVA|3.262323529411765|\n",
      "+--------------+-----------------+\n",
      "only showing top 1 row\n",
      "\n",
      "Maior preço médio de venda do Diesel\n",
      "+---------+-----------------+\n",
      "|Municipio|media_venda      |\n",
      "+---------+-----------------+\n",
      "|TEFE     |7.164734104046243|\n",
      "+---------+-----------------+\n",
      "only showing top 1 row\n",
      "\n"
     ]
    }
   ],
   "source": [
    "df_filled = df.fillna({\"Valor de Venda\": 0})\n",
    "df_diesel = df_filled.filter(df[\"Produto\"] == \"DIESEL\")\n",
    "\n",
    "result = (\n",
    "    df_diesel.groupBy(\"Municipio\")\n",
    "             .agg(F.avg(\"Valor de Venda\").alias(\"media_venda\"))\n",
    "             .orderBy(\"media_venda\")\n",
    ")\n",
    "\n",
    "print(\"Menor preço médio de venda do Diesel\")\n",
    "result.orderBy(F.asc(\"media_venda\")).show(1, truncate=False)\n",
    "\n",
    "print(\"Maior preço médio de venda do Diesel\")\n",
    "result.orderBy(F.desc(\"media_venda\")).show(1, truncate=False) "
   ]
  },
  {
   "cell_type": "markdown",
   "metadata": {},
   "source": [
    "### Informe os 3 bairros de Recife que apresentaram a maior média de preço para Diesel e Diesel S10, e seus respectivos preços"
   ]
  },
  {
   "cell_type": "code",
   "execution_count": 71,
   "metadata": {},
   "outputs": [
    {
     "name": "stdout",
     "output_type": "stream",
     "text": [
      "+---------+-----------------+\n",
      "|Bairro   |media_venda      |\n",
      "+---------+-----------------+\n",
      "|PAISSANDU|7.19             |\n",
      "|HIPODROMO|5.577326315789474|\n",
      "|SOLEDADE |5.533424242424242|\n",
      "+---------+-----------------+\n",
      "\n"
     ]
    }
   ],
   "source": [
    "df_recife_diesel = df.filter(\n",
    "    (F.trim(df[\"Produto\"]).isin(\"DIESEL\", \"DIESEL S10\")) & (F.trim(df[\"Municipio\"]) == \"RECIFE\")\n",
    ")\n",
    "\n",
    "df_recife_diesel = df_recife_diesel.withColumn(\n",
    "    \"Valor de Venda\", F.regexp_replace(\"Valor de Venda\", \",\", \".\").cast(\"double\")\n",
    ")\n",
    "\n",
    "result = (\n",
    "    df_recife_diesel.groupBy(\"Bairro\")\n",
    "    .agg(F.avg(\"Valor de Venda\").alias(\"media_venda\"))\n",
    "    .orderBy(F.desc(\"media_venda\"))\n",
    ")\n",
    "\n",
    "result_clean = result.filter(result[\"media_venda\"].isNotNull())\n",
    "\n",
    "top_3_bairros = result_clean.limit(3)\n",
    "top_3_bairros.show(truncate=False)"
   ]
  },
  {
   "cell_type": "markdown",
   "metadata": {},
   "source": [
    "## Analise sobre o \"Valor de Venda\""
   ]
  },
  {
   "cell_type": "code",
   "execution_count": 72,
   "metadata": {},
   "outputs": [
    {
     "name": "stdout",
     "output_type": "stream",
     "text": [
      "+--------------+------------------+-----------------+-----------+-----------+---------+\n",
      "|Estado - Sigla|           Produto|Unidade de Medida|menor_valor|maior_valor|diferenca|\n",
      "+--------------+------------------+-----------------+-----------+-----------+---------+\n",
      "|            TO|               GNV|          R$ / m³|          3|          3|      0.0|\n",
      "|            AC|            DIESEL|       R$ / litro|       3,34|       8,95|     NULL|\n",
      "|            AC|        DIESEL S10|       R$ / litro|       3,55|       8,98|     NULL|\n",
      "|            AC|            ETANOL|       R$ / litro|       3,45|        7,9|     NULL|\n",
      "|            AC|          GASOLINA|       R$ / litro|       3,99|       8,16|     NULL|\n",
      "|            AC|GASOLINA ADITIVADA|       R$ / litro|       4,92|       9,69|     NULL|\n",
      "|            AL|            DIESEL|       R$ / litro|      2,799|       8,99|     NULL|\n",
      "|            AL|        DIESEL S10|       R$ / litro|      2,799|       8,99|     NULL|\n",
      "|            AL|            ETANOL|       R$ / litro|      2,799|       7,04|     NULL|\n",
      "|            AL|          GASOLINA|       R$ / litro|      3,499|       8,59|     NULL|\n",
      "+--------------+------------------+-----------------+-----------+-----------+---------+\n",
      "only showing top 10 rows\n",
      "\n"
     ]
    }
   ],
   "source": [
    "df_price = (\n",
    "    df_filtered\n",
    "    .groupBy(\n",
    "        F.col('Estado - Sigla'),\n",
    "        F.col('Produto'),\n",
    "        F.col('Unidade de Medida')\n",
    "    )\n",
    "    .agg(\n",
    "        F.min(F.col(\"Valor de Venda\")).alias('menor_valor'),\n",
    "        F.max(F.col(\"Valor de Venda\")).alias('maior_valor')\n",
    "    )\n",
    "    .withColumn(\n",
    "        \"diferenca\",\n",
    "        F.col('maior_valor') - F.col('menor_valor')\n",
    "    )\n",
    "    .orderBy('diferenca', ascending=False)\n",
    ")\n",
    "\n",
    "df_price.show(10)"
   ]
  }
 ],
 "metadata": {
  "kernelspec": {
   "display_name": "Python 3",
   "language": "python",
   "name": "python3"
  },
  "language_info": {
   "codemirror_mode": {
    "name": "ipython",
    "version": 3
   },
   "file_extension": ".py",
   "mimetype": "text/x-python",
   "name": "python",
   "nbconvert_exporter": "python",
   "pygments_lexer": "ipython3",
   "version": "3.13.0"
  }
 },
 "nbformat": 4,
 "nbformat_minor": 2
}
